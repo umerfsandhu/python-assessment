{
  "nbformat": 4,
  "nbformat_minor": 0,
  "metadata": {
    "colab": {
      "name": "python tech test.ipynb",
      "provenance": [],
      "collapsed_sections": [],
      "authorship_tag": "ABX9TyONaP4EQGMxUnyXVEVHXcXR",
      "include_colab_link": true
    },
    "kernelspec": {
      "name": "python3",
      "display_name": "Python 3"
    },
    "language_info": {
      "name": "python"
    }
  },
  "cells": [
    {
      "cell_type": "markdown",
      "metadata": {
        "id": "view-in-github",
        "colab_type": "text"
      },
      "source": [
        "<a href=\"https://colab.research.google.com/github/umerfsandhu/python-assessment/blob/main/python_tech_test.ipynb\" target=\"_parent\"><img src=\"https://colab.research.google.com/assets/colab-badge.svg\" alt=\"Open In Colab\"/></a>"
      ]
    },
    {
      "cell_type": "code",
      "metadata": {
        "id": "jDJjxFP77I4_"
      },
      "source": [
        "import re"
      ],
      "execution_count": 1,
      "outputs": []
    },
    {
      "cell_type": "markdown",
      "metadata": {
        "id": "jCvtQxc0TpZT"
      },
      "source": [
        "2. **Regular expressions**\n",
        "\n",
        "\n",
        "2.1 Write the python code that uses regular expressions to extract the numerical product count from the variable product_count_text below, and converts it to integer (int) format\n",
        "\n",
        "\n"
      ]
    },
    {
      "cell_type": "code",
      "metadata": {
        "colab": {
          "base_uri": "https://localhost:8080/"
        },
        "id": "0k_d-WxiLyWV",
        "outputId": "8784c305-4de4-4d3e-b362-a602b15ee3d8"
      },
      "source": [
        "product_count_text = '381 Products found'\n",
        "num = re.findall(r'\\d+',product_count_text)\n",
        "product_count_int = int(num[0])\n",
        "print(product_count_int) "
      ],
      "execution_count": 13,
      "outputs": [
        {
          "output_type": "stream",
          "name": "stdout",
          "text": [
            "381\n"
          ]
        }
      ]
    },
    {
      "cell_type": "markdown",
      "metadata": {
        "id": "nX3jIAFCUDpi"
      },
      "source": [
        "**2.2**  Write the python code that uses a single search pattern to extract the sequence of characters after the final \"/\", before the \"-\" character, in each url."
      ]
    },
    {
      "cell_type": "code",
      "metadata": {
        "colab": {
          "base_uri": "https://localhost:8080/"
        },
        "id": "eoxSg_8GULtw",
        "outputId": "a185ec06-d947-441e-b641-1b3c1fef91ce"
      },
      "source": [
        "import re\n",
        "generic_urls = [\"https://www.genericdomain.com/abc/def/1290aodwb23-ghi.img\", \"https://www.genericdomain.com/ab-c/31287bdwakj-jkl.img\", \"https://www.genericdomain.com/19unioawd02-jkl.img\"]\n",
        "special_sequence = []\n",
        "for url in generic_urls:\n",
        "  # used regular expression that look after '/' and before '-'\n",
        "\tspecial_sequence.append(re.findall(r\"(?<=/)[a-z0-9]+(?=\\-)\",url))\n",
        " \n",
        "print(special_sequence)\n"
      ],
      "execution_count": 1,
      "outputs": [
        {
          "output_type": "stream",
          "name": "stdout",
          "text": [
            "[['1290aodwb23'], ['ab', '31287bdwakj'], ['19unioawd02']]\n"
          ]
        }
      ]
    }
  ]
}